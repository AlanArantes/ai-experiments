{
  "cells": [
    {
      "cell_type": "markdown",
      "source": [
        "# AI: How easy is it to create a helpdesk assistant using Transformers library\n",
        "\n",
        "*Imagine being the developer on your squad, crafting a bot that doesn’t just spit out automatic responses but actually gets what your users are asking. That’s the kind of magic we’re talking about here. And guess what? It’s not as complicated as it sounds, especially with this guide.*\n",
        "\n",
        "---\n",
        "\n",
        "First off, if you’re just starting with AI or have poked around a bit, you’ve probably heard of the OpenAI API and the Transformers library. Both are like having your own Gandalf for building AI stuff, but they cater to different kinds of wizards. OpenAI API is like the express train to AI-ville. It’s super user-friendly, meaning you don’t need to know the ins and outs of AI to make something cool. It’s perfect for getting your app to chat away or understand user commands without getting your hands dirty with the nitty-gritty of model training.\n",
        "\n",
        "## Here’s the game plan:\n",
        "Preparing the state: Start by installing the right dependencies to use the Transform library. Ensure you’ve got Python installed — most spells in the AI world are cast with it. If you haven’t, head over to the Python website and follow the instructions for your operating system.\n",
        "\n",
        "*** On the colab platform set Your Collab Runtime type to T4 GPU in the Menu: Runtime > Change runtime type > Hardware accelerator ***\n",
        "\n",
        "Next, open your command line or terminal and cast the following spell to summon the Transformers library into your realm (or just install it):"
      ],
      "metadata": {
        "id": "KLVzRlziMHNO"
      }
    },
    {
      "cell_type": "code",
      "execution_count": 29,
      "metadata": {
        "id": "NdYXmvaFK3pF",
        "colab": {
          "base_uri": "https://localhost:8080/"
        },
        "outputId": "2ac4a692-3aa4-49d7-8a9e-2b02ccee41d9"
      },
      "outputs": [
        {
          "output_type": "stream",
          "name": "stdout",
          "text": [
            "Requirement already satisfied: transformers in /usr/local/lib/python3.10/dist-packages (4.46.2)\n",
            "Requirement already satisfied: filelock in /usr/local/lib/python3.10/dist-packages (from transformers) (3.16.1)\n",
            "Requirement already satisfied: huggingface-hub<1.0,>=0.23.2 in /usr/local/lib/python3.10/dist-packages (from transformers) (0.26.2)\n",
            "Requirement already satisfied: numpy>=1.17 in /usr/local/lib/python3.10/dist-packages (from transformers) (1.26.4)\n",
            "Requirement already satisfied: packaging>=20.0 in /usr/local/lib/python3.10/dist-packages (from transformers) (24.2)\n",
            "Requirement already satisfied: pyyaml>=5.1 in /usr/local/lib/python3.10/dist-packages (from transformers) (6.0.2)\n",
            "Requirement already satisfied: regex!=2019.12.17 in /usr/local/lib/python3.10/dist-packages (from transformers) (2024.9.11)\n",
            "Requirement already satisfied: requests in /usr/local/lib/python3.10/dist-packages (from transformers) (2.32.3)\n",
            "Requirement already satisfied: safetensors>=0.4.1 in /usr/local/lib/python3.10/dist-packages (from transformers) (0.4.5)\n",
            "Requirement already satisfied: tokenizers<0.21,>=0.20 in /usr/local/lib/python3.10/dist-packages (from transformers) (0.20.3)\n",
            "Requirement already satisfied: tqdm>=4.27 in /usr/local/lib/python3.10/dist-packages (from transformers) (4.66.6)\n",
            "Requirement already satisfied: fsspec>=2023.5.0 in /usr/local/lib/python3.10/dist-packages (from huggingface-hub<1.0,>=0.23.2->transformers) (2024.10.0)\n",
            "Requirement already satisfied: typing-extensions>=3.7.4.3 in /usr/local/lib/python3.10/dist-packages (from huggingface-hub<1.0,>=0.23.2->transformers) (4.12.2)\n",
            "Requirement already satisfied: charset-normalizer<4,>=2 in /usr/local/lib/python3.10/dist-packages (from requests->transformers) (3.4.0)\n",
            "Requirement already satisfied: idna<4,>=2.5 in /usr/local/lib/python3.10/dist-packages (from requests->transformers) (3.10)\n",
            "Requirement already satisfied: urllib3<3,>=1.21.1 in /usr/local/lib/python3.10/dist-packages (from requests->transformers) (2.2.3)\n",
            "Requirement already satisfied: certifi>=2017.4.17 in /usr/local/lib/python3.10/dist-packages (from requests->transformers) (2024.8.30)\n"
          ]
        }
      ],
      "source": [
        "!pip install transformers"
      ]
    },
    {
      "cell_type": "markdown",
      "source": [
        "**Choose Your Wand** — CPU or GPU?: Here’s where you pick the power source for your magic. If you’re just tinkering or learning, running the models on your CPU might be fine. But, if you’re planning to do some heavy spellwork or want super-fast responses, you’ll want to harness the power of a GPU. In this way consider to additional dependencies:"
      ],
      "metadata": {
        "id": "7k7bl1icM7Dc"
      }
    },
    {
      "cell_type": "code",
      "source": [
        "!pip install accelerate -U"
      ],
      "metadata": {
        "id": "ygF_COfHM2mG",
        "colab": {
          "base_uri": "https://localhost:8080/"
        },
        "outputId": "027fe9c1-fb5c-4f84-8a68-70877b8de0b1"
      },
      "execution_count": 30,
      "outputs": [
        {
          "output_type": "stream",
          "name": "stdout",
          "text": [
            "Requirement already satisfied: accelerate in /usr/local/lib/python3.10/dist-packages (1.1.1)\n",
            "Requirement already satisfied: huggingface-hub>=0.21.0 in /usr/local/lib/python3.10/dist-packages (from accelerate) (0.26.2)\n",
            "Requirement already satisfied: numpy<3.0.0,>=1.17 in /usr/local/lib/python3.10/dist-packages (from accelerate) (1.26.4)\n",
            "Requirement already satisfied: packaging>=20.0 in /usr/local/lib/python3.10/dist-packages (from accelerate) (24.2)\n",
            "Requirement already satisfied: psutil in /usr/local/lib/python3.10/dist-packages (from accelerate) (5.9.5)\n",
            "Requirement already satisfied: pyyaml in /usr/local/lib/python3.10/dist-packages (from accelerate) (6.0.2)\n",
            "Requirement already satisfied: safetensors>=0.4.3 in /usr/local/lib/python3.10/dist-packages (from accelerate) (0.4.5)\n",
            "Requirement already satisfied: torch>=1.10.0 in /usr/local/lib/python3.10/dist-packages (from accelerate) (2.5.1+cu121)\n",
            "Requirement already satisfied: filelock in /usr/local/lib/python3.10/dist-packages (from huggingface-hub>=0.21.0->accelerate) (3.16.1)\n",
            "Requirement already satisfied: fsspec>=2023.5.0 in /usr/local/lib/python3.10/dist-packages (from huggingface-hub>=0.21.0->accelerate) (2024.10.0)\n",
            "Requirement already satisfied: requests in /usr/local/lib/python3.10/dist-packages (from huggingface-hub>=0.21.0->accelerate) (2.32.3)\n",
            "Requirement already satisfied: tqdm>=4.42.1 in /usr/local/lib/python3.10/dist-packages (from huggingface-hub>=0.21.0->accelerate) (4.66.6)\n",
            "Requirement already satisfied: typing-extensions>=3.7.4.3 in /usr/local/lib/python3.10/dist-packages (from huggingface-hub>=0.21.0->accelerate) (4.12.2)\n",
            "Requirement already satisfied: networkx in /usr/local/lib/python3.10/dist-packages (from torch>=1.10.0->accelerate) (3.4.2)\n",
            "Requirement already satisfied: jinja2 in /usr/local/lib/python3.10/dist-packages (from torch>=1.10.0->accelerate) (3.1.4)\n",
            "Requirement already satisfied: sympy==1.13.1 in /usr/local/lib/python3.10/dist-packages (from torch>=1.10.0->accelerate) (1.13.1)\n",
            "Requirement already satisfied: mpmath<1.4,>=1.1.0 in /usr/local/lib/python3.10/dist-packages (from sympy==1.13.1->torch>=1.10.0->accelerate) (1.3.0)\n",
            "Requirement already satisfied: MarkupSafe>=2.0 in /usr/local/lib/python3.10/dist-packages (from jinja2->torch>=1.10.0->accelerate) (3.0.2)\n",
            "Requirement already satisfied: charset-normalizer<4,>=2 in /usr/local/lib/python3.10/dist-packages (from requests->huggingface-hub>=0.21.0->accelerate) (3.4.0)\n",
            "Requirement already satisfied: idna<4,>=2.5 in /usr/local/lib/python3.10/dist-packages (from requests->huggingface-hub>=0.21.0->accelerate) (3.10)\n",
            "Requirement already satisfied: urllib3<3,>=1.21.1 in /usr/local/lib/python3.10/dist-packages (from requests->huggingface-hub>=0.21.0->accelerate) (2.2.3)\n",
            "Requirement already satisfied: certifi>=2017.4.17 in /usr/local/lib/python3.10/dist-packages (from requests->huggingface-hub>=0.21.0->accelerate) (2024.8.30)\n"
          ]
        }
      ]
    },
    {
      "cell_type": "markdown",
      "source": [
        "*On the colab platform you can skip this step*\n",
        "\n",
        "**NVIDIA CUDA for GPU Wizards:** If you’ve chosen the GPU path and have an NVIDIA graphics card, you’ll need to install CUDA and cuDNN to get everything running smoothly. These are like the arcane texts that let your GPU understand how to conjure AI spells. Head over to the NVIDIA website, find the versions compatible with your graphics card, and follow the installation guides.\n",
        "\n",
        "[NVidia CUDA Toolkit](https://developer.nvidia.com/cuda-toolkit)\n",
        "\n",
        "## Pick Your Potion: Choosing the right model.\n",
        "There are tons out there, but for a helpdesk assistant, you’ll want something good with text, like BERT or GPT-2. We’re going with GPT-2 in this tutorial."
      ],
      "metadata": {
        "id": "UEIPGJKfNBkc"
      }
    },
    {
      "cell_type": "code",
      "source": [
        "from transformers import GPT2LMHeadModel, GPT2TokenizerFast, TextDataset, DataCollatorForLanguageModeling\n",
        "from transformers import Trainer, TrainingArguments, GPT2Config"
      ],
      "metadata": {
        "id": "DIrP7fkSNhV3"
      },
      "execution_count": 31,
      "outputs": []
    },
    {
      "cell_type": "markdown",
      "source": [
        "## Training Montage\n",
        "Next up, you’ll need to train your model. This sounds epic because it is. You’re essentially teaching your bot to understand and respond to queries by feeding it examples. We need to consider having a starting dataset to teach the AI and witness the magic unfold. Below, there’s a small set of hypothetical Q&A to use in our tutorial, just copy them and save in a text file in your project folder, for example with the name dataset.txt\n",
        "\n",
        "```\n",
        "# My smartphone is not turning on. What should I do?\n",
        "# I'm sorry to hear that. Let's try a few troubleshooting steps. First, make sure the battery is charged. If it doesn't work, press and hold the power button for at least 10 seconds to force a restart.\n",
        "\n",
        "# How can I transfer photos from my phone to my computer?\n",
        "# To transfer photos, connect your phone to the computer using a USB cable. Once connected, open the file explorer on your computer, find your phone, and navigate to the \"DCIM\" folder. Copy the photos from there to your computer.\n",
        "\n",
        "# I forgot my phone's PIN. How can I unlock it?\n",
        "# No worries! If you've set up a Google or Apple account on your phone, you can use the \"Forgot PIN\" or \"Forgot Password\" option on the lock screen. Follow the on-screen instructions to reset your PIN.\n",
        "\n",
        "# How do I update the software on my smartphone?\n",
        "# To update your phone's software, go to Settings > System > Software Update. If there's an update available, follow the on-screen prompts to download and install it. Ensure your phone is connected to Wi-Fi during the update.\n",
        "\n",
        "# My phone's camera is blurry. What can I do to fix it?\n",
        "# Blurriness in the camera might be due to smudges on the lens. Gently clean the lens with a microfiber cloth. If the issue persists, check if there are any software updates for the camera app in your phone's app store.\n",
        "\n",
        "# How can I set up email on my smartphone?\n",
        "# To set up email, go to Settings > Accounts > Add Account. Select \"Email\" and enter your email address and password. The phone will automatically configure the email settings. If you're having trouble, double-check your email provider's settings.\n",
        "\n",
        "# My phone is running slow. Any tips to speed it up?\n",
        "# Slow performance can be due to multiple apps running in the background. Close unused apps and clear cache from Settings > Storage > Cached data. If the issue persists, consider uninstalling unnecessary apps or freeing up storage space.\n",
        "\n",
        "# How can I disable notifications for a specific app?\n",
        "# To disable notifications for a specific app, go to Settings > Apps > [App Name]. Look for the \"Notifications\" section and toggle off the switch. This will stop notifications from that app.\n",
        "\n",
        "# My phone's screen is cracked. What should I do?\n",
        "# I'm sorry to hear that. If the screen is still functional, you may consider using a screen protector temporarily. For a permanent solution, contact the phone manufacturer or visit an authorized service center for screen repair or replacement.\n",
        "\n",
        "# How do I factory reset my smartphone?\n",
        "# Performing a factory reset will erase all data on your phone. To do this, go to Settings > System > Reset > Factory data reset. Follow the on-screen instructions and ensure you have backed up important data before proceeding.\n",
        "```\n",
        "\n",
        "\n",
        "\n"
      ],
      "metadata": {
        "id": "ehShfxSXNoww"
      }
    },
    {
      "cell_type": "markdown",
      "source": [
        "## Get your mind ready\n",
        "We’re going through a recipe for some digital wizardry, specifically for training an AI to be your next-gen helpdesk assistant.\n",
        "\n",
        "Kick-off with the Tokenizer: Imagine you’ve got a blender (that’s your tokenizer), and you’re throwing in some text to chop up into bits that your AI can easily digest. We’re using the GPT2TokenizerFast here, tuned to ‘gpt2’, which means it’s ready to handle text the way GPT-2 likes it."
      ],
      "metadata": {
        "id": "BCBKB6p9Ob45"
      }
    },
    {
      "cell_type": "code",
      "source": [
        "# Initialize a tokenizer\n",
        "tokenizer = GPT2TokenizerFast.from_pretrained('gpt2')"
      ],
      "metadata": {
        "id": "L23n3PTLOgEj"
      },
      "execution_count": 32,
      "outputs": []
    },
    {
      "cell_type": "markdown",
      "source": [
        "**Whip Up the Dataset:** Now, think of the dataset as your main ingredient. This line tells your setup, “Hey, grab the helpdesk conversations from this text file.” It’s like you’re prepping your veggies before you start cooking. The block_size=128 bit is about how big a bite you want your AI to chew on in one go. Here, consider changing the file_path attribute to point to your previously created dataset."
      ],
      "metadata": {
        "id": "RhAxIXQZOlbq"
      }
    },
    {
      "cell_type": "code",
      "source": [
        "# Prepare the dataset\n",
        "# Using Google Drive as a storage for your dataset\n",
        "# from google.colab import drive\n",
        "# drive.mount(\"/content/drive\")\n",
        "# dataset = TextDataset(tokenizer=tokenizer, file_path=\"./drive/My Drive/Colab Notebooks/dataset.txt\", block_size=128)\n",
        "dataset = TextDataset(tokenizer=tokenizer, file_path=\"./dataset.txt\", block_size=128)"
      ],
      "metadata": {
        "id": "lwNs1LceOtjD",
        "colab": {
          "base_uri": "https://localhost:8080/"
        },
        "outputId": "c55d428c-63c5-4668-f4e0-ceb2618f629d"
      },
      "execution_count": 33,
      "outputs": [
        {
          "output_type": "stream",
          "name": "stderr",
          "text": [
            "/usr/local/lib/python3.10/dist-packages/transformers/data/datasets/language_modeling.py:53: FutureWarning: This dataset will be removed from the library soon, preprocessing should be handled with the 🤗 Datasets library. You can have a look at this example script for pointers: https://github.com/huggingface/transformers/blob/main/examples/pytorch/language-modeling/run_mlm.py\n",
            "  warnings.warn(\n"
          ]
        }
      ]
    },
    {
      "cell_type": "markdown",
      "source": [
        "**Data Collator — The Mixer:** This part’s all about getting your data ready for the oven. The DataCollatorForLanguageModeling is like saying, “Mix up my text chunks so they’re just right for training.” Setting mlm=False tells it we’re not hiding any of the text from our model; it gets to see everything full on."
      ],
      "metadata": {
        "id": "3BVIIKVSPF4E"
      }
    },
    {
      "cell_type": "code",
      "source": [
        "# Prepare the data collator\n",
        "data_collator = DataCollatorForLanguageModeling(tokenizer=tokenizer, mlm=False)"
      ],
      "metadata": {
        "id": "RyIv8hNAPJOv"
      },
      "execution_count": 34,
      "outputs": []
    },
    {
      "cell_type": "markdown",
      "source": [
        "**Model Time — Preheating the Oven:** Here’s where you pick your oven model. We’re rolling with GPT-2, a pretty fancy choice if you’re into making your AI understand and generate human-like text. We skip the part where we build the oven from scratch (GPT2Config) and go straight to using a preheated one with GPT2LMHeadModel.from_pretrained(‘gpt2’)."
      ],
      "metadata": {
        "id": "IzY3w0mGPMze"
      }
    },
    {
      "cell_type": "code",
      "source": [
        "# Initialize a blank model with GPT-2 architecture\n",
        "# config = GPT2Config.from_pretrained('gpt2')\n",
        "# model = GPT2LMHeadModel(config)\n",
        "# Load the pre-trained GPT-2 model\n",
        "model = GPT2LMHeadModel.from_pretrained('gpt2')"
      ],
      "metadata": {
        "id": "WFF3v2jv257v"
      },
      "execution_count": 35,
      "outputs": []
    },
    {
      "cell_type": "markdown",
      "source": [
        "**Training Arguments — Setting the Timer:** This chunk is like dialing in the settings on your oven. You’re telling it how long to cook (num_train_epochs=100, which is like saying, “Let’s run this 100 times to make sure it’s really got it”), how hot (or how many examples to look at once with per_device_train_batch_size=32), and when to check if the dish is done (save_steps=10_000). Oh, and save_total_limit=2 is kinda like saying, “I’ve only got space for two leftovers in the fridge, so toss anything older.”"
      ],
      "metadata": {
        "id": "A2AwZj71PUXC"
      }
    },
    {
      "cell_type": "code",
      "source": [
        "# Specify the training arguments\n",
        "training_args = TrainingArguments(\n",
        "    output_dir=\"./gpt2_pretrained\",  # The output directory\n",
        "    overwrite_output_dir=True,  # Overwrite the content of the output directory\n",
        "    num_train_epochs=100,  # Number of training epochs\n",
        "    per_device_train_batch_size=32,  # Batch size for training\n",
        "    save_steps=10_000,  # Number of updates steps before two checkpoint saves\n",
        "    save_total_limit=2,  # Limit the total amount of checkpoints and delete the older checkpoints\n",
        ")"
      ],
      "metadata": {
        "id": "1pumnuQrPYdT"
      },
      "execution_count": 36,
      "outputs": []
    },
    {
      "cell_type": "markdown",
      "source": [
        "**Start the Training:** With everything in place, you kick off the training. This is when your AI starts learning from the data, making sense of the patterns, understanding questions, and figuring out how to generate answers. Imagine it’s like baking a cake; you’ve set the temperature and time, now you let it transform inside the oven. The training process is where the magic happens, turning your raw data into a sophisticated AI model capable of handling real-world queries. It’s a mix of art and science, requiring patience and adjustments in the dataset or on the training arguments to get it just right.\n",
        "\n",
        "*On the colab platform don't forget to set your runtime type to T4 GPU*"
      ],
      "metadata": {
        "id": "mMdXhYIyPb7l"
      }
    },
    {
      "cell_type": "code",
      "source": [
        "# It's important to have an account on the website https://wandb.ai/site.\n",
        "# This command will prompt you to input the API Key provided by wandb.ai, either on the welcome screen or in your profile.\n",
        "!pip install wandb\n",
        "!wandb login"
      ],
      "metadata": {
        "colab": {
          "base_uri": "https://localhost:8080/"
        },
        "id": "ntQq6oEuDmTk",
        "outputId": "ef6d900d-d80f-435e-b061-7a186acb91ea"
      },
      "execution_count": 37,
      "outputs": [
        {
          "output_type": "stream",
          "name": "stdout",
          "text": [
            "Requirement already satisfied: wandb in /usr/local/lib/python3.10/dist-packages (0.18.7)\n",
            "Requirement already satisfied: click!=8.0.0,>=7.1 in /usr/local/lib/python3.10/dist-packages (from wandb) (8.1.7)\n",
            "Requirement already satisfied: docker-pycreds>=0.4.0 in /usr/local/lib/python3.10/dist-packages (from wandb) (0.4.0)\n",
            "Requirement already satisfied: gitpython!=3.1.29,>=1.0.0 in /usr/local/lib/python3.10/dist-packages (from wandb) (3.1.43)\n",
            "Requirement already satisfied: platformdirs in /usr/local/lib/python3.10/dist-packages (from wandb) (4.3.6)\n",
            "Requirement already satisfied: protobuf!=4.21.0,!=5.28.0,<6,>=3.19.0 in /usr/local/lib/python3.10/dist-packages (from wandb) (4.25.5)\n",
            "Requirement already satisfied: psutil>=5.0.0 in /usr/local/lib/python3.10/dist-packages (from wandb) (5.9.5)\n",
            "Requirement already satisfied: pyyaml in /usr/local/lib/python3.10/dist-packages (from wandb) (6.0.2)\n",
            "Requirement already satisfied: requests<3,>=2.0.0 in /usr/local/lib/python3.10/dist-packages (from wandb) (2.32.3)\n",
            "Requirement already satisfied: sentry-sdk>=2.0.0 in /usr/local/lib/python3.10/dist-packages (from wandb) (2.18.0)\n",
            "Requirement already satisfied: setproctitle in /usr/local/lib/python3.10/dist-packages (from wandb) (1.3.4)\n",
            "Requirement already satisfied: setuptools in /usr/local/lib/python3.10/dist-packages (from wandb) (75.1.0)\n",
            "Requirement already satisfied: typing-extensions<5,>=4.4 in /usr/local/lib/python3.10/dist-packages (from wandb) (4.12.2)\n",
            "Requirement already satisfied: six>=1.4.0 in /usr/local/lib/python3.10/dist-packages (from docker-pycreds>=0.4.0->wandb) (1.16.0)\n",
            "Requirement already satisfied: gitdb<5,>=4.0.1 in /usr/local/lib/python3.10/dist-packages (from gitpython!=3.1.29,>=1.0.0->wandb) (4.0.11)\n",
            "Requirement already satisfied: charset-normalizer<4,>=2 in /usr/local/lib/python3.10/dist-packages (from requests<3,>=2.0.0->wandb) (3.4.0)\n",
            "Requirement already satisfied: idna<4,>=2.5 in /usr/local/lib/python3.10/dist-packages (from requests<3,>=2.0.0->wandb) (3.10)\n",
            "Requirement already satisfied: urllib3<3,>=1.21.1 in /usr/local/lib/python3.10/dist-packages (from requests<3,>=2.0.0->wandb) (2.2.3)\n",
            "Requirement already satisfied: certifi>=2017.4.17 in /usr/local/lib/python3.10/dist-packages (from requests<3,>=2.0.0->wandb) (2024.8.30)\n",
            "Requirement already satisfied: smmap<6,>=3.0.1 in /usr/local/lib/python3.10/dist-packages (from gitdb<5,>=4.0.1->gitpython!=3.1.29,>=1.0.0->wandb) (5.0.1)\n",
            "\u001b[34m\u001b[1mwandb\u001b[0m: Currently logged in as: \u001b[33malanarantes\u001b[0m (\u001b[33malanarantes-alan-arantes\u001b[0m). Use \u001b[1m`wandb login --relogin`\u001b[0m to force relogin\n"
          ]
        }
      ]
    },
    {
      "cell_type": "code",
      "source": [
        "import os\n",
        "os.environ[\"WANDB_PROJECT\"]=\"custom_helpdesk_assistant\""
      ],
      "metadata": {
        "id": "qmHPCcAzA_Qw"
      },
      "execution_count": 38,
      "outputs": []
    },
    {
      "cell_type": "code",
      "execution_count": 39,
      "metadata": {
        "id": "_B7PPxCWpulF",
        "colab": {
          "base_uri": "https://localhost:8080/",
          "height": 75
        },
        "outputId": "9f0817cc-440e-4ef1-9da1-1fba7329e357"
      },
      "outputs": [
        {
          "output_type": "display_data",
          "data": {
            "text/plain": [
              "<IPython.core.display.HTML object>"
            ],
            "text/html": [
              "\n",
              "    <div>\n",
              "      \n",
              "      <progress value='100' max='100' style='width:300px; height:20px; vertical-align: middle;'></progress>\n",
              "      [100/100 00:34, Epoch 100/100]\n",
              "    </div>\n",
              "    <table border=\"1\" class=\"dataframe\">\n",
              "  <thead>\n",
              " <tr style=\"text-align: left;\">\n",
              "      <th>Step</th>\n",
              "      <th>Training Loss</th>\n",
              "    </tr>\n",
              "  </thead>\n",
              "  <tbody>\n",
              "  </tbody>\n",
              "</table><p>"
            ]
          },
          "metadata": {}
        }
      ],
      "source": [
        "# Initialize the Trainer\n",
        "trainer = Trainer(\n",
        "    model=model,\n",
        "    args=training_args,\n",
        "    data_collator=data_collator,\n",
        "    train_dataset=dataset,\n",
        ")\n",
        "\n",
        "# Train the model\n",
        "trainer.train()\n",
        "\n",
        "# Save the model\n",
        "trainer.save_model()\n"
      ]
    },
    {
      "cell_type": "markdown",
      "source": [
        "Putting all this together, you’re setting up a state-of-the-art kitchen to whip up an AI that’s gonna handle your helpdesk like a pro. It’s all about prepping your ingredients, mixing them right, and cooking them under the perfect conditions. Bon appétit, tech-style!\n",
        "\n",
        "## Using your brain\n",
        "We’re gonna walk through whipping up a batch of smart, on-the-fly responses using some serious coding chops and AI wizardry. Let’s get into the nitty-gritty of this tech recipe.\n",
        "\n",
        "Gathering the Ingredients: We need make some imports before we start to use our brain previously stored."
      ],
      "metadata": {
        "id": "rC5IciutQXXd"
      }
    },
    {
      "cell_type": "code",
      "source": [
        "import sys\n",
        "from time import time\n",
        "import torch\n",
        "\n",
        "from transformers import GPT2LMHeadModel, GPT2TokenizerFast\n",
        "\n",
        "from functools import lru_cache"
      ],
      "metadata": {
        "id": "l0yc8jyo8k5H"
      },
      "execution_count": 40,
      "outputs": []
    },
    {
      "cell_type": "markdown",
      "source": [
        "**Important notes:** We’re calling in the big guns from the Transformers library: the GPT-2 LM Head Model and GPT-2 Tokenizer Fast. Think of them as your high-end food processor and slicer, ready to handle anything you throw at them. To enhance performance and avoid redundant calls that yield the same result, we’ve also decided to implement a small cache layer using the @lru_cache annotation.\n",
        "\n",
        "Continuing with our activities, we initialize our tokenizer, which is like setting up your cutting board and knives to chop up text into manageable pieces our AI can understand."
      ],
      "metadata": {
        "id": "_pvvJoTf8oxi"
      }
    },
    {
      "cell_type": "code",
      "source": [
        "# Initialize a tokenizer\n",
        "tokenizer = GPT2TokenizerFast.from_pretrained('gpt2')"
      ],
      "metadata": {
        "id": "M4WrgGyr8sto"
      },
      "execution_count": 41,
      "outputs": []
    },
    {
      "cell_type": "markdown",
      "source": [
        "We load our pre-trained model, kind of like getting that secret recipe book out. We’re setting up to use either the GPU or CPU, depending on what kind of firepower we have available. This is the equivalent of deciding if you’re cooking on a gas stove or an electric one."
      ],
      "metadata": {
        "id": "oyNT924O8wPz"
      }
    },
    {
      "cell_type": "code",
      "source": [
        "# Load the trained model for inference\n",
        "model = GPT2LMHeadModel.from_pretrained(\"./gpt2_pretrained\")\n",
        "device = \"cuda\" if torch.cuda.is_available() else \"cpu\"\n",
        "print(f\"device: {device}\")\n",
        "model.to(device)"
      ],
      "metadata": {
        "id": "OcOfcUT68zlz",
        "colab": {
          "base_uri": "https://localhost:8080/"
        },
        "outputId": "c946351f-7c41-457e-fc27-a637e473c6a9"
      },
      "execution_count": 42,
      "outputs": [
        {
          "output_type": "stream",
          "name": "stdout",
          "text": [
            "device: cuda\n"
          ]
        },
        {
          "output_type": "execute_result",
          "data": {
            "text/plain": [
              "GPT2LMHeadModel(\n",
              "  (transformer): GPT2Model(\n",
              "    (wte): Embedding(50257, 768)\n",
              "    (wpe): Embedding(1024, 768)\n",
              "    (drop): Dropout(p=0.1, inplace=False)\n",
              "    (h): ModuleList(\n",
              "      (0-11): 12 x GPT2Block(\n",
              "        (ln_1): LayerNorm((768,), eps=1e-05, elementwise_affine=True)\n",
              "        (attn): GPT2SdpaAttention(\n",
              "          (c_attn): Conv1D(nf=2304, nx=768)\n",
              "          (c_proj): Conv1D(nf=768, nx=768)\n",
              "          (attn_dropout): Dropout(p=0.1, inplace=False)\n",
              "          (resid_dropout): Dropout(p=0.1, inplace=False)\n",
              "        )\n",
              "        (ln_2): LayerNorm((768,), eps=1e-05, elementwise_affine=True)\n",
              "        (mlp): GPT2MLP(\n",
              "          (c_fc): Conv1D(nf=3072, nx=768)\n",
              "          (c_proj): Conv1D(nf=768, nx=3072)\n",
              "          (act): NewGELUActivation()\n",
              "          (dropout): Dropout(p=0.1, inplace=False)\n",
              "        )\n",
              "      )\n",
              "    )\n",
              "    (ln_f): LayerNorm((768,), eps=1e-05, elementwise_affine=True)\n",
              "  )\n",
              "  (lm_head): Linear(in_features=768, out_features=50257, bias=False)\n",
              ")"
            ]
          },
          "metadata": {},
          "execution_count": 42
        }
      ]
    },
    {
      "cell_type": "markdown",
      "source": [
        "**Getting Down to Business:** We briefly consider making our operations more efficient with model.half() to use FP16 precision, kind of like choosing to prep your ingredients beforehand. But we decide to leave that for another day and keep things straightforward.\n",
        "\n",
        "Now, here’s where we start cooking for real. We define a generate_response function, which is our recipe for turning questions into answers. This function is like a magic cauldron that takes in a question, stirs it through the AI model, and poof! Out comes a response.\n",
        "\n",
        "We’re not just blindly cooking here; we’re timing each step of the process — from slicing and dicing the question to simmering it in the AI model and serving up the response. It’s all about efficiency in our kitchen.\n",
        "\n",
        "When we generate the response, we’re setting some rules like how long we want our answer to be (max_length=50) and making sure it's original (no_repeat_ngram_size=2). It's like seasoning to taste and making sure not to overcook."
      ],
      "metadata": {
        "id": "bcndJZoI80Od"
      }
    },
    {
      "cell_type": "code",
      "source": [
        "# Use FP16 precision\n",
        "# model = model.half()\n",
        "\n",
        "# Define a function for generating responses\n",
        "@lru_cache(maxsize=None)\n",
        "def generate_response(input_text):\n",
        "  start_tokenizer = time()\n",
        "  inputs = tokenizer.encode(input_text, return_tensors='pt')\n",
        "  inputs = inputs.to(device)\n",
        "  stop_tokenizer = time()\n",
        "\n",
        "  start_generate = time()\n",
        "  outputs = model.generate(inputs, max_length=50, num_return_sequences=1, no_repeat_ngram_size=2, temperature=0.7)\n",
        "  stop_generate = time()\n",
        "\n",
        "  start_decode = time()\n",
        "  full_response = tokenizer.decode(outputs[0], skip_special_tokens=True)\n",
        "  stop_decode = time()\n",
        "\n",
        "  start_find_response = time()\n",
        "  guard = full_response.find('User:') if full_response.find('User:') > 0 else len(full_response)\n",
        "  guard -= len('User:')\n",
        "  response = full_response[0:guard].strip()\n",
        "  stop_find_response = time()\n",
        "\n",
        "  print(f\"tokenizer elapsed time {stop_tokenizer - start_tokenizer}\")\n",
        "  print(f\"generate elapsed time {stop_generate - start_generate}\")\n",
        "  print(f\"decode elapsed time {stop_decode - start_decode}\")\n",
        "  print(f\"find_response elapsed time {stop_find_response - start_find_response}\")\n",
        "  return response"
      ],
      "metadata": {
        "id": "4rP32cef872j"
      },
      "execution_count": 43,
      "outputs": []
    },
    {
      "cell_type": "markdown",
      "source": [
        "**Serving the Dish:** After our AI assistant does its magic, we present the magic — I mean, the answer. We even clean it up a bit, trimming off any excess to make sure it’s just what the user asked for. Finally, we take our test question about a blurry phone camera."
      ],
      "metadata": {
        "id": "5nU3bLJF894C"
      }
    },
    {
      "cell_type": "code",
      "execution_count": 44,
      "metadata": {
        "id": "27SjMJ61ZpUY",
        "colab": {
          "base_uri": "https://localhost:8080/"
        },
        "outputId": "08d844d0-91af-4572-8b6d-378c203b635a"
      },
      "outputs": [
        {
          "output_type": "stream",
          "name": "stderr",
          "text": [
            "/usr/local/lib/python3.10/dist-packages/transformers/generation/configuration_utils.py:590: UserWarning: `do_sample` is set to `False`. However, `temperature` is set to `0.7` -- this flag is only used in sample-based generation modes. You should set `do_sample=True` or unset `temperature`.\n",
            "  warnings.warn(\n",
            "The attention mask and the pad token id were not set. As a consequence, you may observe unexpected behavior. Please pass your input's `attention_mask` to obtain reliable results.\n",
            "Setting `pad_token_id` to `eos_token_id`:None for open-end generation.\n",
            "The attention mask is not set and cannot be inferred from input because pad token is same as eos token. As a consequence, you may observe unexpected behavior. Please pass your input's `attention_mask` to obtain reliable results.\n"
          ]
        },
        {
          "output_type": "stream",
          "name": "stdout",
          "text": [
            "input My phone's camera is blurry. What can I do to fix it?\n",
            "tokenizer elapsed time 0.0008115768432617188\n",
            "generate elapsed time 0.8022818565368652\n",
            "decode elapsed time 0.00030303001403808594\n",
            "find_response elapsed time 6.4373016357421875e-06\n",
            "My phone's camera is blurry. What can I do to fix it?\n",
            "# Blurriness in the camera might be due to smudges on the lens. Gently clean the lenses with a microfiber cloth. If the\n"
          ]
        }
      ],
      "source": [
        "# Use this function in your command-line interface to generate responses to user input\n",
        "input = \"My phone's camera is blurry. What can I do to fix it?\"\n",
        "print(f\"input {input}\")\n",
        "print(generate_response(input))"
      ]
    }
  ],
  "metadata": {
    "accelerator": "GPU",
    "colab": {
      "provenance": [],
      "gpuType": "T4"
    },
    "kernelspec": {
      "display_name": "Python 3",
      "name": "python3"
    },
    "language_info": {
      "name": "python"
    }
  },
  "nbformat": 4,
  "nbformat_minor": 0
}